{
 "cells": [
  {
   "cell_type": "markdown",
   "metadata": {},
   "source": [
    "# two approaches to get the key of max value of dictionary"
   ]
  },
  {
   "cell_type": "code",
   "execution_count": 23,
   "metadata": {},
   "outputs": [],
   "source": [
    "my_dict ={\"java\":100, \"python\":112, \"c\":11}"
   ]
  },
  {
   "cell_type": "code",
   "execution_count": 24,
   "metadata": {},
   "outputs": [
    {
     "data": {
      "text/plain": [
       "'python'"
      ]
     },
     "execution_count": 24,
     "metadata": {},
     "output_type": "execute_result"
    }
   ],
   "source": [
    "value = max(my_dict.values())\n",
    "index = list(my_dict.values()).index(value)\n",
    "list(my_dict.keys())[index]"
   ]
  },
  {
   "cell_type": "code",
   "execution_count": 25,
   "metadata": {},
   "outputs": [
    {
     "name": "stdout",
     "output_type": "stream",
     "text": [
      "('python', 112)\n",
      "python\n"
     ]
    }
   ],
   "source": [
    "import operator\n",
    "print(max(my_dict.items(), key=operator.itemgetter(1)))  # itemgetter(1) means compare by the 2 column => value of our dict\n",
    "print(max(my_dict.items(), key=operator.itemgetter(1))[0])"
   ]
  },
  {
   "cell_type": "code",
   "execution_count": 26,
   "metadata": {},
   "outputs": [
    {
     "data": {
      "text/plain": [
       "('2', 100)"
      ]
     },
     "execution_count": 26,
     "metadata": {},
     "output_type": "execute_result"
    }
   ],
   "source": [
    "my_dict ={\"2\":100, \"1\":112, \"0\":11}\n",
    "max(my_dict.items(), key=operator.itemgetter(0))"
   ]
  },
  {
   "cell_type": "code",
   "execution_count": null,
   "metadata": {},
   "outputs": [],
   "source": []
  },
  {
   "cell_type": "markdown",
   "metadata": {},
   "source": [
    "# Automatically Generate a PDF and send it by Email\n",
    "\n",
    "- Introduction : \n",
    "\n",
    "  - You work for a company that sells second hand cars. Management wants to get a summary of the amounts of vehicles that have been sold at the end of every month. The company already has a web service which serves sales data at the end of every month but management wants an email to be sent out with an attached PDF so that data is more easily readable.\n",
    "\n",
    "- What you'll do : \n",
    "\n",
    "  - Write a script that summarizes and processes sales data into different categories\n",
    "  - Generate a PDF using Python\n",
    "  - Automatically send a PDF by email"
   ]
  },
  {
   "cell_type": "markdown",
   "metadata": {},
   "source": [
    "# reports.py\n",
    "generate PDF files"
   ]
  },
  {
   "cell_type": "code",
   "execution_count": null,
   "metadata": {},
   "outputs": [],
   "source": [
    "#!/usr/bin/env python3\n",
    "\n",
    "from reportlab.platypus import SimpleDocTemplate\n",
    "from reportlab.platypus import Paragraph, Spacer, Table, Image\n",
    "from reportlab.lib.styles import getSampleStyleSheet\n",
    "from reportlab.lib import colors\n",
    "\n",
    "# generate the pdf file \n",
    "# filename is the name we want to name it, e.g. report.pdf, could also be a path + filename => /dennis/document/report.pdf\n",
    "# table data is our input\n",
    "# table_data has to be like this data structure [[...], [...], [...], .....]\n",
    "def generate(filename, title, additional_info, table_data):\n",
    "    styles = getSampleStyleSheet()\n",
    "    report = SimpleDocTemplate(filename)\n",
    "    report_title = Paragraph(title, styles[\"h1\"])\n",
    "    report_info = Paragraph(additional_info, styles[\"BodyText\"])\n",
    "    table_style = [('GRID', (0,0), (-1,-1), 1, colors.black),\n",
    "                ('FONTNAME', (0,0), (-1,0), 'Helvetica-Bold'),\n",
    "                ('ALIGN', (0,0), (-1,-1), 'CENTER')]\n",
    "    report_table = Table(data=table_data, style=table_style, hAlign=\"LEFT\")\n",
    "    empty_line = Spacer(1,20)\n",
    "    report.build([report_title, empty_line, report_info, empty_line, report_table])\n",
    "\n"
   ]
  },
  {
   "cell_type": "markdown",
   "metadata": {},
   "source": [
    "# emials.py\n",
    "\n",
    "send emails"
   ]
  },
  {
   "cell_type": "code",
   "execution_count": null,
   "metadata": {},
   "outputs": [],
   "source": [
    "#!/usr/bin/env python3\n",
    "\n",
    "import email.message\n",
    "import mimetypes\n",
    "import os.path\n",
    "import smtplib\n",
    "\n",
    "# generate the emails\n",
    "def generate(sender, recipient, subject, body, attachment_path):\n",
    "    # \"\"\"Creates an email with an attachement.\"\"\"\n",
    "    # Basic Email formatting\n",
    "    message = email.message.EmailMessage()\n",
    "    message[\"From\"] = sender\n",
    "    message[\"To\"] = recipient\n",
    "    message[\"Subject\"] = subject\n",
    "    message.set_content(body)  # create the body part \n",
    "\n",
    "    # Process the attachment and add it to the email\n",
    "    attachment_filename = os.path.basename(attachment_path)\n",
    "    mime_type, _ = mimetypes.guess_type(attachment_path)\n",
    "    mime_type, mime_subtype = mime_type.split('/', 1)\n",
    "\n",
    "    with open(attachment_path, 'rb') as ap:\n",
    "        message.add_attachment(ap.read(),\n",
    "                              maintype=mime_type,\n",
    "                              subtype=mime_subtype,\n",
    "                              filename=attachment_filename)\n",
    "\n",
    "    return message\n",
    "\n",
    "# send email function\n",
    "def send(message):\n",
    "    # \"\"\"Sends the message to the configured SMTP server.\"\"\"\n",
    "    mail_server = smtplib.SMTP('localhost')\n",
    "    mail_server.send_message(message)\n",
    "    mail_server.quit()\n",
    "\n"
   ]
  },
  {
   "cell_type": "markdown",
   "metadata": {},
   "source": [
    "# example.py\n",
    "test example"
   ]
  },
  {
   "cell_type": "code",
   "execution_count": null,
   "metadata": {},
   "outputs": [],
   "source": [
    "#!/usr/bin/env python3\n",
    "\n",
    "import emails\n",
    "import os\n",
    "import reports\n",
    "\n",
    "table_data=[\n",
    "  ['Name', 'Amount', 'Value'],\n",
    "  ['elderberries', 10, 0.45],\n",
    "  ['figs', 5, 3],\n",
    "  ['apples', 4, 2.75],\n",
    "  ['durians', 1, 25],\n",
    "  ['bananas', 5, 1.99],\n",
    "  ['cherries', 23, 5.80],\n",
    "  ['grapes', 13, 2.48],\n",
    "  ['kiwi', 4, 0.49]]\n",
    "reports.generate(\"/tmp/report.pdf\", \"A Complete Inventory of My Fruit\", \"This is all my fruit.\", table_data)\n",
    "\n",
    "sender = \"automation@example.com\"\n",
    "receiver = \"{}@example.com\".format(os.environ.get('USER'))\n",
    "subject = \"List of Fruits\"\n",
    "body = \"Hi\\n\\nI'm sending an attachment with all my fruit.\"\n",
    "\n",
    "message = emails.generate(sender, receiver, subject, body, \"/tmp/report.pdf\")\n",
    "emails.send(message)\n",
    "\n"
   ]
  },
  {
   "cell_type": "markdown",
   "metadata": {},
   "source": [
    "# cars.py \n",
    "\n",
    "real task start !!!!!!!!!!!!!!!!!!!!!!!!!!!!!!!!!"
   ]
  },
  {
   "cell_type": "code",
   "execution_count": null,
   "metadata": {},
   "outputs": [],
   "source": [
    "#!/usr/bin/env python3\n",
    "\n",
    "import json\n",
    "import locale\n",
    "import sys\n",
    "import emails\n",
    "import os\n",
    "import reports\n",
    "\n",
    "# to read the file in directory\n",
    "def load_data(filename):\n",
    "    # \"\"\"Loads the contents of filename as a JSON file.\"\"\"\n",
    "    with open(filename) as json_file:\n",
    "        data = json.load(json_file)\n",
    "    return data\n",
    "\n",
    "\n",
    "# change the format to have better visualization\n",
    "def format_car(car):\n",
    "    # \"\"\"Given a car dictionary, returns a nicely formatted name.\"\"\"\n",
    "    return \"{} {} ({})\".format(car[\"car_make\"], car[\"car_model\"], car[\"car_year\"])\n",
    "\n",
    "\n",
    "# proccess the data to get the revenue, most sales model, most popular year information\n",
    "def process_data(data):\n",
    "    # \"\"\"Analyzes the data, looking for maximums.\n",
    "\n",
    "    # # Returns a list of lines that summarize the information.\n",
    "    # \"\"\"\n",
    "    max_revenue = {\"revenue\": 0}\n",
    "    car_most_sales = {}\n",
    "    car_most_popular_year = {}\n",
    "    \n",
    "    # go through all the data to do the calculation\n",
    "    for item in data:\n",
    "        \n",
    "        # Calculate the revenue generated by this model (price * total_sales)\n",
    "        # We need to convert the price from \"$1234.56\" to 1234.56\n",
    "        item_price = locale.atof(item[\"price\"].strip(\"$\"))\n",
    "        item_revenue = item[\"total_sales\"] * item_price\n",
    "        if item_revenue > max_revenue[\"revenue\"]:\n",
    "            item[\"revenue\"] = item_revenue\n",
    "            max_revenue = item\n",
    "        \n",
    "        # get alle the model and total_scales infomation for the later use\n",
    "        # TODO: also handle max sales\n",
    "        if item['car']['car_model'] not in car_most_sales:\n",
    "            car_most_sales[item['car']['car_model']] = item['total_sales']\n",
    "        else:\n",
    "            car_most_sales[item['car']['car_model']] += item['total_sales']\n",
    "\n",
    "        # get alle the year and total_scales infomation for the later use\n",
    "        # TODO: also handle most popular car_year\n",
    "        if item['car']['car_year'] not in car_most_popular_year:\n",
    "            car_most_popular_year[item['car']['car_year']] = item['total_sales']\n",
    "        else:\n",
    "            car_most_popular_year[item['car']['car_year']] += item['total_sales']\n",
    "\n",
    "    # print out to see whether the result is expected\n",
    "    print(car_most_sales)\n",
    "    print(car_most_popular_year)\n",
    "\n",
    "    # get the key of the max value out of dict\n",
    "    # which means, get the most sales model, most popular year info\n",
    "    import operator\n",
    "    model = max(car_most_sales.items(), key=operator.itemgetter(1))\n",
    "    year = max(car_most_popular_year.items(), key=operator.itemgetter(1))\n",
    "\n",
    "    \n",
    "    # put all revenue, most sales model, most popular year information together\n",
    "    summary = [\n",
    "    \"The {} generated the most revenue: ${}\".format(\n",
    "      format_car(max_revenue[\"car\"]), max_revenue[\"revenue\"]),\n",
    "    ]\n",
    "    \n",
    "    summary.append('The {} had the most sales: {}'.format(model[0], model[1]))\n",
    "    summary.append(\"The most popular year was {} with {} sales.\".format(year[0], year[1]))\n",
    "\n",
    "    return summary\n",
    "\n",
    "\n",
    "# transfer the dictionary data structure into table structure\n",
    "def cars_dict_to_table(car_data):\n",
    "    # \"\"\"Turns the data in car_data into a list of lists.\"\"\"\n",
    "    \n",
    "    table_data = [[\"ID\", \"Car\", \"Price\", \"Total Sales\"]]\n",
    "    for item in car_data:\n",
    "        table_data.append([item[\"id\"], format_car(item[\"car\"]), item[\"price\"], item[\"total_sales\"]])\n",
    "    return table_data\n",
    "\n",
    "\n",
    "def main(argv):\n",
    "    # \"\"\"Process the JSON data and generate a full report out of it.\"\"\"\n",
    "    \n",
    "    # load the data and proccess the data to get info\n",
    "    data = load_data(\"car_sales.json\")\n",
    "    summary = process_data(data)\n",
    "    print(summary)\n",
    "    \n",
    "    # transfer data into table structure\n",
    "    car_table_data = cars_dict_to_table(data)\n",
    "\n",
    "    # TODO: turn this into a PDF report\n",
    "    # seperate the title in pdf line by line by using <br/>\n",
    "    new_summary = '<br/>'.join(summary)\n",
    "    reports.generate(\"/tmp/cars.pdf\", new_summary, \n",
    "                     \"This is all the information of sales summary.\", car_table_data)\n",
    "    \n",
    "    # TODO: send the PDF report as an email attachment\n",
    "    # seperate the title in pdf line by line by using <br/>\n",
    "    new_summary = '\\n'.join(summary)\n",
    "    msg = emails.generate(\"automation@example.com\", \"student-04-ff6c41a5804e@example.com\",\n",
    "                          \"Sales summary for last month\", new_summary, \"/tmp/cars.pdf\")\n",
    "    emails.send(msg)\n",
    "\n",
    "\n",
    "if __name__ == \"__main__\":\n",
    "    main(sys.argv)\n"
   ]
  },
  {
   "cell_type": "markdown",
   "metadata": {},
   "source": [
    "# Grant required permissions to the file cars.py and open it using nano editor.\n",
    "\n",
    "**sudo chmod o+wx ~/scripts/cars.py**\n",
    "\n",
    "**nano ~/scripts/cars.py**"
   ]
  },
  {
   "cell_type": "markdown",
   "metadata": {},
   "source": [
    "# \"car_sales.json\" \n",
    "look like\n"
   ]
  },
  {
   "cell_type": "code",
   "execution_count": null,
   "metadata": {},
   "outputs": [],
   "source": [
    "[{\"id\":1,\"car\":{\"car_make\":\"Ford\",\"car_model\":\"Club Wagon\",\"car_year\":1997},\"price\":\"$5179.39\",\"total_sales\":446},\n",
    "{\"id\":2,\"car\":{\"car_make\":\"Acura\",\"car_model\":\"TL\",\"car_year\":2005},\"price\":\"$14558.19\",\"total_sales\":589},\n",
    "{\"id\":3,\"car\":{\"car_make\":\"Volkswagen\",\"car_model\":\"Jetta\",\"car_year\":2009},\"price\":\"$14879.11\",\"total_sales\":825},\n",
    "{\"id\":4,\"car\":{\"car_make\":\"Chevrolet\",\"car_model\":\"Uplander\",\"car_year\":2006},\"price\":\"$17045.06\",\"total_sales\":689},\n",
    "{\"id\":5,\"car\":{\"car_make\":\"Plymouth\",\"car_model\":\"Roadrunner\",\"car_year\":1969},\"price\":\"$14770.44\",\"total_sales\":691},\n",
    "{\"id\":6,\"car\":{\"car_make\":\"GMC\",\"car_model\":\"Safari\",\"car_year\":2000},\"price\":\"$13390.83\",\"total_sales\":531},\n",
    "{\"id\":7,\"car\":{\"car_make\":\"Lamborghini\",\"car_model\":\"Murciélago\",\"car_year\":2003},\"price\":\"$7267.94\",\"total_sales\":374},\n",
    "{\"id\":8,\"car\":{\"car_make\":\"GMC\",\"car_model\":\"3500\",\"car_year\":1999},\"price\":\"$19292.10\",\"total_sales\":638},\n",
    "{\"id\":9,\"car\":{\"car_make\":\"Maybach\",\"car_model\":\"62\",\"car_year\":2004},\"price\":\"$11020.45\",\"total_sales\":945},\n",
    "{\"id\":10,\"car\":{\"car_make\":\"Chevrolet\",\"car_model\":\"Cavalier\",\"car_year\":2001},\"price\":\"$10708.87\",\"total_sales\":870},\n",
    "{\"id\":11,\"car\":{\"car_make\":\"Plymouth\",\"car_model\":\"Acclaim\",\"car_year\":1993},\"price\":\"$7734.63\",\"total_sales\":1158},\n",
    "{\"id\":12,\"car\":{\"car_make\":\"Buick\",\"car_model\":\"Century\",\"car_year\":1991},\"price\":\"$16905.08\",\"total_sales\":933},\n",
    "{\"id\":13,\"car\":{\"car_make\":\"Dodge\",\"car_model\":\"Daytona\",\"car_year\":1984},\"price\":\"$11540.36\",\"total_sales\":371},\n",
    "{\"id\":14,\"car\":{\"car_make\":\"Ford\",\"car_model\":\"Econoline E350\",\"car_year\":1996},\"price\":\"$19948.00\",\"total_sales\":1126},\n",
    "{\"id\":15,\"car\":{\"car_make\":\"Nissan\",\"car_model\":\"Quest\",\"car_year\":2001},\"price\":\"$12528.50\",\"total_sales\":536},\n",
    "{\"id\":16,\"car\":{\"car_make\":\"Toyota\",\"car_model\":\"Yaris\",\"car_year\":2007},\"price\":\"$10754.12\",\"total_sales\":573},\n",
    "{\"id\":17,\"car\":{\"car_make\":\"Maserati\",\"car_model\":\"Spyder\",\"car_year\":2005},\"price\":\"$18285.40\",\"total_sales\":224},\n",
    "{\"id\":18,\"car\":{\"car_make\":\"Ram\",\"car_model\":\"Dakota\",\"car_year\":2011},\"price\":\"$8792.39\",\"total_sales\":1135},\n",
    "{\"id\":19,\"car\":{\"car_make\":\"Mitsubishi\",\"car_model\":\"Diamante\",\"car_year\":1995},\"price\":\"$19173.71\",\"total_sales\":152},\n",
    "{\"id\":20,\"car\":{\"car_make\":\"Honda\",\"car_model\":\"Accord\",\"car_year\":2001},\"price\":\"$12123.05\",\"total_sales\":1063},\n",
    "{\"id\":21,\"car\":{\"car_make\":\"Mercury\",\"car_model\":\"Sable\",\"car_year\":1991},\"price\":\"$11226.09\",\"total_sales\":1118},\n",
    "{\"id\":22,\"car\":{\"car_make\":\"Toyota\",\"car_model\":\"Previa\",\"car_year\":1991},\"price\":\"$14361.62\",\"total_sales\":1048},\n",
    "{\"id\":23,\"car\":{\"car_make\":\"GMC\",\"car_model\":\"Safari\",\"car_year\":1993},\"price\":\"$10153.72\",\"total_sales\":354},\n",
    "{\"id\":24,\"car\":{\"car_make\":\"Suzuki\",\"car_model\":\"SJ\",\"car_year\":1989},\"price\":\"$14230.45\",\"total_sales\":1007},\n",
    "{\"id\":25,\"car\":{\"car_make\":\"Ford\",\"car_model\":\"Ranger\",\"car_year\":1991},\"price\":\"$14350.35\",\"total_sales\":299},\n",
    "{\"id\":26,\"car\":{\"car_make\":\"Suzuki\",\"car_model\":\"Daewoo Magnus\",\"car_year\":2006},\"price\":\"$9796.72\",\"total_sales\":408},\n",
    "{\"id\":27,\"car\":{\"car_make\":\"Chevrolet\",\"car_model\":\"Impala\",\"car_year\":2005},\"price\":\"$10738.89\",\"total_sales\":583},\n",
    "{\"id\":28,\"car\":{\"car_make\":\"Jeep\",\"car_model\":\"Wrangler\",\"car_year\":2005},\"price\":\"$17614.00\",\"total_sales\":1078},\n",
    "{\"id\":29,\"car\":{\"car_make\":\"Dodge\",\"car_model\":\"Viper\",\"car_year\":2002},\"price\":\"$11424.24\",\"total_sales\":342},\n",
    "{\"id\":30,\"car\":{\"car_make\":\"Acura\",\"car_model\":\"RSX\",\"car_year\":2004},\"price\":\"$5401.24\",\"total_sales\":167}]"
   ]
  },
  {
   "cell_type": "markdown",
   "metadata": {},
   "source": [
    "which in short look like this"
   ]
  },
  {
   "cell_type": "code",
   "execution_count": null,
   "metadata": {},
   "outputs": [],
   "source": [
    "{\n",
    "    \"id\": 47,\n",
    "    \"car\": {\n",
    "            \"car_make\": \"Lamborghini\",\n",
    "            \"car_model\": \"Murciélago\",\n",
    "            \"car_year\": 2002\n",
    "    },\n",
    "    \"price\": \"$13724.05\",\n",
    "    \"total_sales\": 149\n",
    "}"
   ]
  }
 ],
 "metadata": {
  "kernelspec": {
   "display_name": "Python 3",
   "language": "python",
   "name": "python3"
  },
  "language_info": {
   "codemirror_mode": {
    "name": "ipython",
    "version": 3
   },
   "file_extension": ".py",
   "mimetype": "text/x-python",
   "name": "python",
   "nbconvert_exporter": "python",
   "pygments_lexer": "ipython3",
   "version": "3.7.9"
  }
 },
 "nbformat": 4,
 "nbformat_minor": 4
}
