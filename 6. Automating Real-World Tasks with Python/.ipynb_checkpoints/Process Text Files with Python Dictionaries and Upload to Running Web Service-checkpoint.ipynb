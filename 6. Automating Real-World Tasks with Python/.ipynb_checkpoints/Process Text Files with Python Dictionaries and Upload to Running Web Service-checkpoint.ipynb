{
 "cells": [
  {
   "cell_type": "code",
   "execution_count": 8,
   "metadata": {},
   "outputs": [],
   "source": [
    "people = [\n",
    "    {\n",
    "        \"name\": \"Sabrina Green\",\n",
    "        \"username\": \"sgreen\",\n",
    "        \"phone\": {\n",
    "            \"office\": \"802-867-5309\",\n",
    "            \"cell\": \"802-867-5310\"\n",
    "        },\n",
    "        \"department\": \"IT Infrastructure\",\n",
    "        \"role\": \"Systems Administrator\"\n",
    "    },\n",
    "    {\n",
    "        \"name\": \"Eli Jones\",\n",
    "        \"username\": \"ejones\",\n",
    "        \"phone\": {\n",
    "            \"office\": \"684-348-1127\"\n",
    "        },\n",
    "        \"department\": \"IT Infrastructure\",\n",
    "        \"role\": \"IT Specialist\"\n",
    "    },\n",
    "]\n"
   ]
  },
  {
   "cell_type": "code",
   "execution_count": 15,
   "metadata": {
    "scrolled": true
   },
   "outputs": [
    {
     "name": "stdout",
     "output_type": "stream",
     "text": [
      "[{\"name\": \"Sabrina Green\", \"username\": \"sgreen\", \"phone\": {\"office\": \"802-867-5309\", \"cell\": \"802-867-5310\"}, \"department\": \"IT Infrastructure\", \"role\": \"Systems Administrator\"}, {\"name\": \"Eli Jones\", \"username\": \"ejones\", \"phone\": {\"office\": \"684-348-1127\"}, \"department\": \"IT Infrastructure\", \"role\": \"IT Specialist\"}]\n"
     ]
    }
   ],
   "source": [
    "import json\n",
    "\n",
    "people_json = json.dumps(people)\n",
    "print(people_json)"
   ]
  },
  {
   "cell_type": "code",
   "execution_count": null,
   "metadata": {},
   "outputs": [],
   "source": [
    "import requests\n",
    "a = requests.get('https://www.google.com')"
   ]
  },
  {
   "cell_type": "code",
   "execution_count": null,
   "metadata": {},
   "outputs": [],
   "source": [
    "#!/usr/bin/env python3\n",
    "\n",
    "import os\n",
    "import requests\n",
    "\n",
    "path = '/data/feedback'\n",
    "print('==========================================')\n",
    "for file in os.listdir(path):\n",
    "    feedback = {}\n",
    "    file_path = os.path.join(path, file)\n",
    "    with open(file_path, 'r') as file:\n",
    "        infos = file.readlines()\n",
    "        feedback['title'] = infos[0].rstrip('\\n')\n",
    "        feedback['name'] = infos[1].rstrip('\\n')\n",
    "        feedback['date'] = infos[2].rstrip('\\n')\n",
    "        feedback['feedback'] = infos[3].rstrip('\\n')\n",
    "    print(feedback)\n",
    "    response = requests.post('http://<corpweb-external-IP>/feedback/', data=feedback)\n",
    "    print(response.ok)\n",
    "    print(response.status_code)\n",
    "    print(response.request.body)\n"
   ]
  },
  {
   "cell_type": "code",
   "execution_count": null,
   "metadata": {},
   "outputs": [],
   "source": [
    "#!/usr/bin/env python\n",
    "\"\"\"Django's command-line utility for administrative tasks.\"\"\"\n",
    "import os\n",
    "import sys\n",
    "\n",
    "\n",
    "def main():\n",
    "    os.environ.setdefault('DJANGO_SETTINGS_MODULE', 'corpweb.settings')\n",
    "    try:\n",
    "        from django.core.management import execute_from_command_line\n",
    "    except ImportError as exc:\n",
    "        raise ImportError(\n",
    "            \"Couldn't import Django. Are you sure it's installed and \"\n",
    "            \"available on your PYTHONPATH environment variable? Did you \"\n",
    "            \"forget to activate a virtual environment?\"\n",
    "        ) from exc\n",
    "    execute_from_command_line(sys.argv)\n",
    "\n",
    "\n",
    "if __name__ == '__main__':\n",
    "    main()\n"
   ]
  }
 ],
 "metadata": {
  "kernelspec": {
   "display_name": "Python 3",
   "language": "python",
   "name": "python3"
  },
  "language_info": {
   "codemirror_mode": {
    "name": "ipython",
    "version": 3
   },
   "file_extension": ".py",
   "mimetype": "text/x-python",
   "name": "python",
   "nbconvert_exporter": "python",
   "pygments_lexer": "ipython3",
   "version": "3.7.9"
  }
 },
 "nbformat": 4,
 "nbformat_minor": 4
}
