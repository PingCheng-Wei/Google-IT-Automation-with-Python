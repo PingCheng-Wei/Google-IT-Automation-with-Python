{
 "cells": [
  {
   "cell_type": "markdown",
   "metadata": {},
   "source": [
    "# Image processing\n",
    "\n",
    "convert rotate thumbnail(resize)"
   ]
  },
  {
   "cell_type": "code",
   "execution_count": null,
   "metadata": {},
   "outputs": [],
   "source": [
    "#!/usr/bin/env python3\n",
    "\n",
    "import os\n",
    "from PIL import Image\n",
    "\n",
    "size = (128, 128)\n",
    "\n",
    "for infile in os.listdir():\n",
    "    # get the file name with out file type\n",
    "    outfile = os.path.splitext(infile)[0]  \n",
    "    try:\n",
    "        # open the file and convert in RGB\n",
    "        with Image.open(infile).convert('RGB') as im:\n",
    "            # resize the pic\n",
    "            im.thumbnail(size)\n",
    "            # rotates the image in counter clockwise direction\n",
    "            im.rotate(270)\n",
    "            # save the pic with given path + file_name, file type\n",
    "            im.save('/opt/icons/' + outfile, \"JPEG\")\n",
    "    except OSError:\n",
    "        pass\n",
    "    "
   ]
  },
  {
   "cell_type": "markdown",
   "metadata": {},
   "source": [
    "# get the current datetime"
   ]
  },
  {
   "cell_type": "code",
   "execution_count": 1,
   "metadata": {},
   "outputs": [
    {
     "name": "stdout",
     "output_type": "stream",
     "text": [
      "2020-11-22\n",
      "Nov 22,2020\n"
     ]
    }
   ],
   "source": [
    "import datetime\n",
    "a = datetime.datetime.now().date()\n",
    "print(a)\n",
    "b = a.strftime('%b %d,%Y')\n",
    "print(b)"
   ]
  },
  {
   "cell_type": "code",
   "execution_count": 17,
   "metadata": {},
   "outputs": [
    {
     "data": {
      "text/plain": [
       "'Processed Update on Nov 21,2020'"
      ]
     },
     "execution_count": 17,
     "metadata": {},
     "output_type": "execute_result"
    }
   ],
   "source": [
    "today_date = datetime.datetime.now().date()\n",
    "today_date = today_date.strftime('%b %d,%Y')\n",
    "title = 'Processed Update on ' + today_date\n",
    "title"
   ]
  },
  {
   "cell_type": "code",
   "execution_count": null,
   "metadata": {},
   "outputs": [],
   "source": []
  }
 ],
 "metadata": {
  "kernelspec": {
   "display_name": "Python 3",
   "language": "python",
   "name": "python3"
  },
  "language_info": {
   "codemirror_mode": {
    "name": "ipython",
    "version": 3
   },
   "file_extension": ".py",
   "mimetype": "text/x-python",
   "name": "python",
   "nbconvert_exporter": "python",
   "pygments_lexer": "ipython3",
   "version": "3.7.9"
  }
 },
 "nbformat": 4,
 "nbformat_minor": 4
}
