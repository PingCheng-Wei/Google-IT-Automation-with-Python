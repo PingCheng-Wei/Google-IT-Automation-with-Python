{
 "cells": [
  {
   "cell_type": "markdown",
   "metadata": {},
   "source": [
    "# Image processing\n",
    "\n",
    "convert rotate thumbnail(resize)"
   ]
  },
  {
   "cell_type": "code",
   "execution_count": null,
   "metadata": {},
   "outputs": [],
   "source": [
    "#!/usr/bin/env python3\n",
    "\n",
    "import os\n",
    "from PIL import Image\n",
    "\n",
    "size = (128, 128)\n",
    "\n",
    "for infile in os.listdir():\n",
    "    outfile = os.path.splitext(infile)[0]\n",
    "    try:\n",
    "        with Image.open(infile).convert('RGB') as im:\n",
    "            im.thumbnail(size)\n",
    "            im.rotate(270)\n",
    "            im.save('/opt/icons/' + outfile, \"JPEG\")\n",
    "    except OSError:\n",
    "        pass\n",
    "    "
   ]
  },
  {
   "cell_type": "code",
   "execution_count": 15,
   "metadata": {},
   "outputs": [
    {
     "name": "stdout",
     "output_type": "stream",
     "text": [
      "Nov 21,2020\n"
     ]
    }
   ],
   "source": [
    "import datetime\n",
    "a = datetime.datetime.now().date()\n",
    "b = a.strftime('%b %d,%Y')\n",
    "print(b)"
   ]
  },
  {
   "cell_type": "code",
   "execution_count": 17,
   "metadata": {},
   "outputs": [
    {
     "data": {
      "text/plain": [
       "'Processed Update on Nov 21,2020'"
      ]
     },
     "execution_count": 17,
     "metadata": {},
     "output_type": "execute_result"
    }
   ],
   "source": [
    "today_date = datetime.datetime.now().date()\n",
    "today_date = today_date.strftime('%b %d,%Y')\n",
    "title = 'Processed Update on ' + today_date\n",
    "title"
   ]
  },
  {
   "cell_type": "code",
   "execution_count": 26,
   "metadata": {},
   "outputs": [
    {
     "name": "stdout",
     "output_type": "stream",
     "text": [
      "usage(total=126753091584, used=99699490816, free=27053600768)\n"
     ]
    }
   ],
   "source": [
    "# importing shutil module  \n",
    "import shutil\n",
    "   \n",
    "# path  \n",
    "# As the path for GFG is root so '/' is used \n",
    "path = '/'\n",
    "  \n",
    "# Using shutil.disk_usage() method \n",
    "memory = shutil.disk_usage(path)  \n",
    "  \n",
    "# Print result \n",
    "print(memory) "
   ]
  },
  {
   "cell_type": "code",
   "execution_count": 33,
   "metadata": {},
   "outputs": [
    {
     "name": "stdout",
     "output_type": "stream",
     "text": [
      "ok\n"
     ]
    }
   ],
   "source": [
    "def disk_space_check():\n",
    "    disk_space = shutil.disk_usage(\"/\")  # output look like this: usage(total=126753091584, used=99699490816, free=27053600768)\n",
    "    disk_total = disk_space.total\n",
    "    disk_free = disk_space.free\n",
    "    available_space = (disk_free / disk_total) * 100\n",
    "    disk_space_error = available_space < 20\n",
    "    return disk_space_error\n",
    "a = [disk_space_check()]\n",
    "if a[0] == False:\n",
    "    print('ok')"
   ]
  },
  {
   "cell_type": "code",
   "execution_count": null,
   "metadata": {},
   "outputs": [],
   "source": []
  }
 ],
 "metadata": {
  "kernelspec": {
   "display_name": "Python 3",
   "language": "python",
   "name": "python3"
  },
  "language_info": {
   "codemirror_mode": {
    "name": "ipython",
    "version": 3
   },
   "file_extension": ".py",
   "mimetype": "text/x-python",
   "name": "python",
   "nbconvert_exporter": "python",
   "pygments_lexer": "ipython3",
   "version": "3.7.9"
  }
 },
 "nbformat": 4,
 "nbformat_minor": 4
}
