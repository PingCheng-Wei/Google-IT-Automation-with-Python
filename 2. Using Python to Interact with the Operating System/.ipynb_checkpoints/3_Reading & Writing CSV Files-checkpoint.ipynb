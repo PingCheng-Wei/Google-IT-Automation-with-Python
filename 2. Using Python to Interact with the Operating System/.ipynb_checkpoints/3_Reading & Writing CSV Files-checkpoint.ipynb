{
 "cells": [
  {
   "cell_type": "markdown",
   "metadata": {},
   "source": [
    "# Practice Quiz: Reading & Writing CSV Files\n"
   ]
  },
  {
   "cell_type": "code",
   "execution_count": 8,
   "metadata": {},
   "outputs": [
    {
     "name": "stdout",
     "output_type": "stream",
     "text": [
      "<_io.TextIOWrapper name='by_department.csv' mode='w' encoding='cp950'>\n"
     ]
    }
   ],
   "source": [
    "import os\n",
    "import csv\n",
    "users = [{'name':'Sol Mansi', 'username': 'solm', 'department': 'IT infrastructure'}, \n",
    "         {'name':'Lio Nelson', 'username': 'lion', 'department': 'User Experience Research'}, \n",
    "         {'name':'Charlie Grey', 'username': 'greyc', 'department': 'Developmant'}]\n",
    "\n",
    "keys = ['name', 'username', 'department']\n",
    "with open('by_department.csv', 'w') as by_department:\n",
    "    writer = csv.DictWriter(by_department, fieldnames = keys)\n",
    "    writer.writeheader()\n",
    "    writer.writerows(users)\n",
    "    \n",
    "print(by_department)"
   ]
  },
  {
   "cell_type": "code",
   "execution_count": null,
   "metadata": {},
   "outputs": [],
   "source": []
  },
  {
   "cell_type": "markdown",
   "metadata": {},
   "source": [
    "cd data (go into the 'data' directory) \n",
    "\n",
    "ls (check the content inside this directory)\\\n",
    "\n",
    "cat employees.csv(cat: open this file)"
   ]
  },
  {
   "cell_type": "markdown",
   "metadata": {},
   "source": [
    "ex. you will see \\\n",
    "Full Name     , Username, Department \\\n",
    "Audrey Miller , audrey  , Development \\\n",
    "Arden Garcia  , ardeng  , Sales \\\n",
    "Bailey Thomas , baileyt , Human Resources\\\n",
    "Blake Sousa   , sousa   , IT infrastructure\\\n",
    "Cameron Nguyen, nguyen  , Marketing\\\n",
    "Charlie Grey  , greyc   , Development\\\n",
    "Chris Black   , chrisb  , User Experience Research\\\n",
    "Courtney Silva, silva   , IT infrastructure\\\n",
    "Darcy Johnsonn, darcy   , IT infrastructure\\\n",
    "Elliot Lamb   , elliotl , Development\\\n",
    "Emery Halls   , halls   , Sales\\\n",
    "Flynn McMillan, flynn   , Marketing\\\n",
    "Harley Klose  , harley  , Human Resources\\\n",
    "Jean May Coy  , jeanm   , Vendor operations\\\n",
    "Kay Stevens   , kstev   , Sales\\\n",
    "Lio Nelson    , lion    , User Experience Research\\\n",
    "Logan Tillas  , tillas  , Vendor operations\\\n",
    "Micah Lopes   , micah   , Development\\\n",
    "Sol Mansi     , solm    , IT infrastructure\\\n"
   ]
  },
  {
   "cell_type": "markdown",
   "metadata": {},
   "source": [
    "nano generate_deparment (use nano to create a python script)\\\n",
    "   add this line on top : #!/usr/bin/env python3\n",
    "\n",
    "after modifying the script use: ctrl+o(store), enter(save script name), ctrl+x(leave)\n",
    "\n",
    "chmod +x employee.csv (mark as executable)\\\n",
    "./ employee.csv"
   ]
  },
  {
   "cell_type": "code",
   "execution_count": null,
   "metadata": {},
   "outputs": [],
   "source": [
    "# generate_deparment script:\n",
    "import csv\n",
    "\n",
    "# to convert the csv file into a list of dictionary => easy to modify for later \n",
    "def read_employees(csv_file_location):\n",
    "    csv.register_dialect('empDialect', skipinitialspace=True, strict=True)\n",
    "    employee_file = csv.DictReader(open(csv_file_location), dialect = 'empDialect')   \n",
    "                  # csv.DicReader => create it into the dictionary\n",
    "                  # csv.reader    => just create the list of list  which means 2D array\n",
    "    employee_list = [] \n",
    "    # store all dictionary into the list\n",
    "    for data in employee_file:\n",
    "        employee_list.append(data)\n",
    "    return employee_list\n",
    "\n",
    "employee_list = read_employees('/home/student-00-4e18784807d7/data/employees.csv')\n",
    "print(employee_list) # print out a list of dictionary\n",
    "\n",
    "\n",
    "\n",
    "\n",
    "def process_data(employee_list):\n",
    "    department_list = []\n",
    "    # get each dictionary out of the list in order to get the informations \n",
    "    for employee_data in employee_list:\n",
    "        department_list.append(employee_data['Department'])\n",
    "\n",
    "    department_data = {}\n",
    "    for department_name in set(department_list):\n",
    "        # count the redundancy which also means how many employees are in this apartment \n",
    "        # store the amount of the employee in the apartment as dictionary \n",
    "        department_data[department_name] = department_list.count(department_name)  \n",
    "    return department_data\n",
    "\n",
    "dictionary = process_data(employee_list)\n",
    "print(dictionary)\n",
    "\n",
    "\n",
    "def write_report(dictionary, report_file):\n",
    "    with open(report_file, \"w+\") as f:\n",
    "        for k in sorted(dictionary):\n",
    "            f.write(str(k)+':'+str(dictionary[k])+'\\n')\n",
    "        f.close()\n",
    "\n",
    "write_report(dictionary, '/home/student-00-4e18784807d7/test_report.txt')\n"
   ]
  },
  {
   "cell_type": "code",
   "execution_count": null,
   "metadata": {},
   "outputs": [],
   "source": []
  },
  {
   "cell_type": "code",
   "execution_count": null,
   "metadata": {},
   "outputs": [],
   "source": []
  },
  {
   "cell_type": "code",
   "execution_count": null,
   "metadata": {},
   "outputs": [],
   "source": []
  }
 ],
 "metadata": {
  "kernelspec": {
   "display_name": "Python 3",
   "language": "python",
   "name": "python3"
  },
  "language_info": {
   "codemirror_mode": {
    "name": "ipython",
    "version": 3
   },
   "file_extension": ".py",
   "mimetype": "text/x-python",
   "name": "python",
   "nbconvert_exporter": "python",
   "pygments_lexer": "ipython3",
   "version": "3.6.10"
  }
 },
 "nbformat": 4,
 "nbformat_minor": 4
}
