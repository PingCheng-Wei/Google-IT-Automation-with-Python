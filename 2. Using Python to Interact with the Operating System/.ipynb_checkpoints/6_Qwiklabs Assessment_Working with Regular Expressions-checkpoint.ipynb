{
 "cells": [
  {
   "cell_type": "markdown",
   "metadata": {},
   "source": [
    "# Qwiklabs Assessment: Working with Regular Expressions"
   ]
  },
  {
   "cell_type": "markdown",
   "metadata": {},
   "source": [
    "**chang abc.edu to xyz.edu**"
   ]
  },
  {
   "cell_type": "code",
   "execution_count": 1,
   "metadata": {
    "scrolled": true
   },
   "outputs": [
    {
     "name": "stdout",
     "output_type": "stream",
     "text": [
      " 磁碟區 C 中的磁碟是 Windows\n",
      " 磁碟區序號:  5097-3AB8\n",
      "\n",
      " C:\\Users\\denni\\Documents\\Google IT Automation with Python\\Using Python to Interact with the Operating System 的目錄\n",
      "\n",
      "2020/09/26  下午 12:38    <DIR>          .\n",
      "2020/09/26  下午 12:38    <DIR>          ..\n",
      "2020/09/26  下午 12:38    <DIR>          .ipynb_checkpoints\n",
      "2020/09/24  下午 05:52             9,057 1_Reading_And_Writing_Files .ipynb\n",
      "2020/09/25  上午 01:21             5,979 2_Managing Files & Directories.ipynb\n",
      "2020/09/25  下午 07:15             5,946 3_Reading & Writing CSV Files.ipynb\n",
      "2020/09/26  上午 10:53             9,973 4_Basic Regular Expressions.ipynb\n",
      "2020/09/26  上午 11:36             7,569 5_Advanced Regular Expressions.ipynb\n",
      "2020/09/26  下午 12:37             5,517 6_Qwiklabs Assessment_Working with Regular Expressions.ipynb\n",
      "2020/09/25  下午 05:31               138 by_department.csv\n",
      "2020/09/25  上午 01:09                 0 newfile.txt\n",
      "2020/09/25  上午 01:13                31 program.py\n",
      "2020/09/25  上午 01:09    <DIR>          PythonPrograms\n",
      "2020/09/26  下午 12:37               701 user_emails.csv\n",
      "              10 個檔案          44,911 位元組\n",
      "               4 個目錄  20,989,804,544 位元組可用\n"
     ]
    }
   ],
   "source": [
    "ls"
   ]
  },
  {
   "cell_type": "markdown",
   "metadata": {},
   "source": [
    "cat user_emails.csv"
   ]
  },
  {
   "cell_type": "markdown",
   "metadata": {},
   "source": [
    "Full Name, Email Address\\\n",
    "Blossom Gill, blossom@abc.edu\\\n",
    "Hayes Delgado, nonummy@utnisia.com\\\n",
    "Petra Jones, ac@abc.edu\\\n",
    "Oleg Noel, noel@liberomauris.ca\\\n",
    "Ahmed Miller, ahmed.miller@nequenonquam.co.uk\\\n",
    "Macaulay Douglas, mdouglas@abc.edu \\\n",
    "Aurora Grant, enim.non@abc.edu \\\n",
    "Madison Mcintosh, mcintosh@nisiaenean.net\\\n",
    "Montana Powell, montanap@semmagna.org\\\n",
    "Rogan Robinson, rr.robinson@abc.edu\\\n",
    "Simon Rivera, sri@abc.edu\\\n",
    "Benedict Pacheco, bpacheco@abc.edu\\\n",
    "Maisie Hendrix, mai.hendrix@abc.edu\\\n",
    "Xaviera Gould, xlg@utnisia.net\\\n",
    "Oren Rollins, oren@semmagna.com\\\n",
    "Flavia Santiago, flavia@utnisia.net\\\n",
    "Jackson Owens, jackowens@abc.edu\\\n",
    "Britanni Humphrey, britanni@ut.net\\\n",
    "Kirk Nixon, kirknixon@abc.edu\\\n",
    "Bree Campbell, breee@utnisia.net\\\n"
   ]
  },
  {
   "cell_type": "code",
   "execution_count": 19,
   "metadata": {},
   "outputs": [
    {
     "ename": "SyntaxError",
     "evalue": "(unicode error) 'unicodeescape' codec can't decode bytes in position 2-3: truncated \\UXXXXXXXX escape (<ipython-input-19-94e399ec1b5d>, line 23)",
     "output_type": "error",
     "traceback": [
      "\u001b[1;36m  File \u001b[1;32m\"<ipython-input-19-94e399ec1b5d>\"\u001b[1;36m, line \u001b[1;32m23\u001b[0m\n\u001b[1;33m    csv_file_location = 'C:\\Users\\denni\\Documents\\Google IT Automation with Python\\Using Python to Interact with the Operating System\\user_emails.csv'\u001b[0m\n\u001b[1;37m                       ^\u001b[0m\n\u001b[1;31mSyntaxError\u001b[0m\u001b[1;31m:\u001b[0m (unicode error) 'unicodeescape' codec can't decode bytes in position 2-3: truncated \\UXXXXXXXX escape\n"
     ]
    }
   ],
   "source": [
    "#!/usr/bin/env python3\n",
    "\n",
    "#Import libraries\n",
    "import csv\n",
    "import re\n",
    "\n",
    "def contains_domain(address, domain):\n",
    "    \"\"\"Returns True if the email address contains the given domain, in the domain position, false if not.\"\"\"\n",
    "    domain_pattern = r'[\\w\\.-]+@'+domain+'$'\n",
    "    if re.match(domain_pattern, address):\n",
    "        return True\n",
    "    return False\n",
    "\n",
    "def replace_domain(address, old_domain, new_domain):\n",
    "    \"\"\"Replaces the old domain with the new domain in the received address.\"\"\"\n",
    "    old_domain_pattern = r'' + old_domain + '$'\n",
    "    address = re.sub(old_domain_pattern, new_domain, address)\n",
    "    return address\n",
    "\n",
    "def main():\n",
    "    \"\"\"Processes the list of emails, replacing any instances of the old domain with the new domain.\"\"\"\n",
    "    old_domain, new_domain = 'abc.edu', 'xyz.edu'\n",
    "    csv_file_location = 'C:\\Users\\denni\\Documents\\Google IT Automation with Python\\Using Python to Interact with the Operating System\\user_emails.csv'\n",
    "    report_file =  'C:\\Users\\denni\\Documents\\Google IT Automation with Python\\Using Python to Interact with the Operating System' + '\\updated_user_emails.csv'\n",
    "\n",
    "    user_email_list = []\n",
    "    old_domain_email_list = []\n",
    "    new_domain_email_list = []\n",
    "\n",
    "    with open(csv_file_location, 'r') as f:\n",
    "        user_data_list = list(csv.reader(f))\n",
    "        user_email_list = [data[1].strip() for data in user_data_list[1:]]\n",
    "\n",
    "    for email_address in user_email_list:\n",
    "        if contains_domain(email_address, old_domain):\n",
    "            old_domain_email_list.append(email_address)\n",
    "            replaced_email = replace_domain(email_address, old_domain, new_domain)\n",
    "            new_domain_email_list.append(replaced_email)\n",
    "\n",
    "    email_key = ' ' + 'Email Address'\n",
    "    email_index = user_data_list[0].index(email_key)\n",
    "    \n",
    "    for user in user_data_list[1:]:\n",
    "        for old_domain, new_domain in zip(old_domain_email_list, new_domain_email_list):\n",
    "            if user[email_index] == ' ' + old_domain:\n",
    "                user[email_index] = ' ' + new_domain\n",
    "        f.close()\n",
    "        \n",
    "    with open(report_file, 'w+') as output_file:\n",
    "        writer = csv.writer(output_file)\n",
    "        writer.writerows(user_data_list)\n",
    "        output_file.close()\n",
    "\n",
    "main()"
   ]
  },
  {
   "cell_type": "markdown",
   "metadata": {},
   "source": [
    "you should see this output"
   ]
  },
  {
   "cell_type": "markdown",
   "metadata": {},
   "source": [
    "Full Name, Email Address\\\n",
    "Blossom Gill, blossom@xyz.edu\\\n",
    "Hayes Delgado, nonummy@utnisia.com\\\n",
    "Petra Jones, ac@xyz.edu\\\n",
    "Oleg Noel, noel@liberomauris.ca\\\n",
    "Ahmed Miller, ahmed.miller@nequenonquam.co.uk\\\n",
    "Macaulay Douglas, mdouglas@xyz.edu\\\n",
    "Aurora Grant, enim.non@xyz.edu\\\n",
    "Madison Mcintosh, mcintosh@nisiaenean.net\\\n",
    "Montana Powell, montanap@semmagna.org\\\n",
    "Rogan Robinson, rr.robinson@xyz.edu\\\n",
    "Simon Rivera, sri@xyz.edu\\\n",
    "Benedict Pacheco, bpacheco@xyz.edu\\\n",
    "Maisie Hendrix, mai.hendrix@xyz.edu\\\n",
    "Xaviera Gould, xlg@utnisia.net\\\n",
    "Oren Rollins, oren@semmagna.com\\\n",
    "Flavia Santiago, flavia@utnisia.net\\\n",
    "Jackson Owens, jackowens@xyz.edu\\\n",
    "Britanni Humphrey, britanni@ut.net\\\n",
    "Kirk Nixon, kirknixon@xyz.edu\\\n",
    "Bree Campbell, breee@utnisia.net\\\n"
   ]
  },
  {
   "cell_type": "code",
   "execution_count": null,
   "metadata": {},
   "outputs": [],
   "source": []
  },
  {
   "cell_type": "code",
   "execution_count": null,
   "metadata": {},
   "outputs": [],
   "source": []
  },
  {
   "cell_type": "code",
   "execution_count": null,
   "metadata": {},
   "outputs": [],
   "source": []
  }
 ],
 "metadata": {
  "kernelspec": {
   "display_name": "Python 3",
   "language": "python",
   "name": "python3"
  },
  "language_info": {
   "codemirror_mode": {
    "name": "ipython",
    "version": 3
   },
   "file_extension": ".py",
   "mimetype": "text/x-python",
   "name": "python",
   "nbconvert_exporter": "python",
   "pygments_lexer": "ipython3",
   "version": "3.6.10"
  }
 },
 "nbformat": 4,
 "nbformat_minor": 4
}
