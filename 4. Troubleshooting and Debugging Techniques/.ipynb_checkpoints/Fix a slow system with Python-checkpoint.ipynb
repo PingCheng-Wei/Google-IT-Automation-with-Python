{
 "cells": [
  {
   "cell_type": "markdown",
   "metadata": {},
   "source": [
    "# CPU bound\n",
    "\n",
    "CPU bound means the program is bottlenecked by the CPU (Central Processing Unit). When your program is waiting for I/O (e.g., disk read/write, network read/write), the CPU is free to do other tasks, even if your program is stopped. The speed of your program will mostly depend on how fast that I/O can happen; if you want to speed it up, you'll need to speed up the I/O. If your program is running lots of program instructions and not waiting for I/O, then it's CPU bound. Speeding up the CPU will make the program run faster.\n",
    "\n",
    "In either case, the key to speeding up the program might not be to speed up the hardware but to optimize the program to reduce the amount of I/O or CPU it needs. Or you can have it do I/O while it also does CPU-intensive work. CPU bound implies that upgrading the CPU or optimizing code will improve the overall computing performance."
   ]
  },
  {
   "cell_type": "markdown",
   "metadata": {},
   "source": [
    "**psutil (process and system utilities)** is a cross-platform library for retrieving information on running processes and system utilization (CPU, memory, disks, network, sensors) in Python. It's mainly useful for system monitoring, profiling, and limiting process resources and management of running processes. Install the psutil python library using pip3:"
   ]
  },
  {
   "cell_type": "markdown",
   "metadata": {},
   "source": [
    "pip3 install psutil # install psutil module\\\n",
    "python3 # open python interpreter\\\n",
    "**\\>> import psutil**\\\n",
    "**\\>> psutil.cpu_percent()**\n",
    "\n",
    "This shows that CPU utilization is low. Here, you have a CPU with multiple cores; this means one fully loaded CPU thread/virtual core equals 1.2% of total load. So, it only uses one core of the CPU regardless of having multiple cores.\n",
    "\n",
    "After checking CPU utilization, you noticed that they're not reaching the limit.\n",
    "\n",
    "So, you check the CPU usage, and it looks like the script only uses a single core to run. But your server has a bunch of cores, which means the task is CPU-bound.\n",
    "\n",
    "Now, using psutil.disk_io_counters() and psutil.net_io_counters() you'll get byte read and byte write for disk I/O and byte received and byte sent for the network I/O bandwidth. For checking disk I/O, you can use the following command:\n",
    "\n",
    "**psutil.disk_io_counters()**\\\n",
    "**psutil.net_io_counters()**"
   ]
  },
  {
   "cell_type": "markdown",
   "metadata": {},
   "source": [
    "# Basics rsync command\n",
    "\n",
    "rsync(remote sync) is a utility for efficiently transferring and synchronizing files between a computer and an external hard drive and across networked computers by comparing the modification time and size of files. One of the important features of rsync is that it works on the delta transfer algorithm, which means it'll only sync or copy the changes from the source to the destination instead of copying the whole file. This ultimately reduces the amount of data sent over the network.\n",
    "\n",
    "The basic syntax of the rsync command is below:\n",
    "\n",
    "> rsync [Options] [Source-Files-Dir] [Destination]\n",
    "\n",
    "1. Copy or sync files locally: \\\n",
    "  rsync -zvh [Source-Files-Dir] [Destination]\n",
    "\n",
    "2. Copy or sync directory locally: \\\n",
    "  rsync -zavh [Source-Files-Dir] [Destination]\n",
    "\n",
    "3. Copy files and directories recursively locally: \\\n",
    "  rsync -zrvh [Source-Files-Dir] [Destination]"
   ]
  },
  {
   "cell_type": "markdown",
   "metadata": {},
   "source": [
    "**Example**\\\n",
    "import subprocess\\\n",
    "src = \"\\<source-path>\" # replace \\<source-path> with the source directory\\\n",
    "dest = \"\\<destination-path>\" # replace \\<destination-path> with the destination directory\\\n",
    "\n",
    "subprocess.call([\"rsync\", \"-arq\", src, dest])"
   ]
  },
  {
   "cell_type": "markdown",
   "metadata": {},
   "source": [
    "# Multiprocessing\n",
    "\n",
    "Now, when you go through the hierarchy of the subfolders of /data/prod, data is from different projects (e.g., , beta, gamma, kappa) and they're independent of each other. So, in order to efficiently back up parallelly, use multiprocessing to take advantage of the idle CPU cores. Initially, because of CPU bound, the backup process takes more than 20 hours to finish, which isn't efficient for a daily backup. Now, by using multiprocessing, you can back up your data from the source to the destination parallelly by utilizing the multiple cores of the CPU.\n",
    "\n",
    "Now, you'll get the Python script **multisync.py** for practice in order to understand how multiprocessing works. We used the Pool class of the multiprocessing Python module. Here, we define a run method to perform the tasks. Next, we have a few tasks. Create a pool object of the Pool class of a specific number of CPUs your system has by passing a number of tasks you have. Start each task within the pool object by calling the map instance method, and pass the run function and the list of tasks as an argument."
   ]
  },
  {
   "cell_type": "code",
   "execution_count": null,
   "metadata": {},
   "outputs": [],
   "source": [
    "# multisync.py \n",
    "\n",
    "#!/usr/bin/env python3\n",
    "from multiprocessing import Pool\n",
    "def run(task):\n",
    "  # Do something with task here\n",
    "    print(\"Handling {}\".format(task))\n",
    "if __name__ == \"__main__\":\n",
    "    tasks = ['task1', 'task2', 'task3']\n",
    "    # Create a pool of specific number of CPUs\n",
    "    p = Pool(len(tasks))\n",
    "    # Start each task within the pool\n",
    "    p.map(run, tasks)\n",
    "\n",
    "# run to see the output:\n",
    "sudo chmod +x ~/scripts/multisync.py\n",
    "./scripts/multisync.py"
   ]
  },
  {
   "cell_type": "markdown",
   "metadata": {},
   "source": [
    "# Back up scripts \n",
    "**back up all the files in a directory into another directory with faster approach / processing**"
   ]
  },
  {
   "cell_type": "code",
   "execution_count": null,
   "metadata": {},
   "outputs": [],
   "source": [
    "\n",
    "\n",
    "#!/usr/bin/env python\n",
    "import subprocess\n",
    "import os\n",
    "from multiprocessing import Pool  # !!! try to understand what this multiprocessing as well as Pool do !!!\n",
    "\n",
    "def backup(src):\n",
    "  dest = os.getcwd() +  \"/data/prod_backup/\"\n",
    "  subprocess.call([\"rsync\", \"-arq\", src, dest])\n",
    "\n",
    "if __name__ == \"__main__\":\n",
    "  src_path = os.getcwd() + \"/data/prod/\"\n",
    "  list_of_files = os.listdir(src_path) # !!! show all the files in the directory by giving the path !!!\n",
    "  all_files = []\n",
    "\n",
    "  for file_name in list_of_files:\n",
    "    list_path = os.path.join(src_path + file_name) # !!! create the whole path of the file by using os.path.join fuction !!!\n",
    "    all_files.append(list_path)\n",
    "\n",
    "  pool_of_CPU = Pool(len(all_files))\n",
    "  pool_of_CPU.map(backup(src_path), all_files) # !!!\n",
    "\n"
   ]
  },
  {
   "cell_type": "code",
   "execution_count": null,
   "metadata": {},
   "outputs": [],
   "source": []
  },
  {
   "cell_type": "code",
   "execution_count": null,
   "metadata": {},
   "outputs": [],
   "source": []
  }
 ],
 "metadata": {
  "kernelspec": {
   "display_name": "Python 3.7 (tensorflow)",
   "language": "python",
   "name": "tensorflow"
  },
  "language_info": {
   "codemirror_mode": {
    "name": "ipython",
    "version": 3
   },
   "file_extension": ".py",
   "mimetype": "text/x-python",
   "name": "python",
   "nbconvert_exporter": "python",
   "pygments_lexer": "ipython3",
   "version": "3.7.9"
  }
 },
 "nbformat": 4,
 "nbformat_minor": 4
}
