{
 "cells": [
  {
   "cell_type": "markdown",
   "metadata": {},
   "source": [
    "# Introduction to Git and GitHub"
   ]
  },
  {
   "cell_type": "markdown",
   "metadata": {},
   "source": [
    "**command   /   Explanation & Link**\n",
    "\n",
    "git commit -a :&emsp;&emsp; Stages files automatically\\\n",
    "git log -p :.........Produces patch text\\\n",
    "git show :.............Shows various objects\\\n",
    "git diff :...........Is similar to the Linux `diff` command, and can show the differences in various commits\\\n",
    "git diff --staged : &nbsp; An alias to --cached, this will show all staged files compared to the named commit\\\n",
    "git add -p:..........Allows a user to interactively review patches to add to the current commit\\\n",
    "git mv:..............Similar to the Linux `mv` command, this moves a file\\\n",
    "git rm:..............Similar to the Linux `rm` command, this deletes, or removes a file\\"
   ]
  },
  {
   "cell_type": "markdown",
   "metadata": {},
   "source": [
    "**git checkout** is effectively used to switch branches.\n",
    "\n",
    "**git reset** basically resets the repo, throwing away some changes. It’s somewhat difficult to understand, so reading the examples in the documentation may be a bit more useful.\n",
    "\n",
    "There are some other useful articles online, which discuss more aggressive approaches to resetting the repo.\n",
    "\n",
    "**git commit --amend** is used to make changes to commits after-the-fact, which can be useful for making notes about a given commit.\n",
    "\n",
    "**git revert** makes a new commit which effectively rolls back a previous commit. It’s a bit like an undo command."
   ]
  },
  {
   "cell_type": "markdown",
   "metadata": {},
   "source": [
    "**Git Branches and Merging Cheat Sheet**"
   ]
  },
  {
   "cell_type": "code",
   "execution_count": null,
   "metadata": {},
   "outputs": [],
   "source": [
    "git branch\tUsed to manage branches\\\n",
    "git branch <name>\tCreates the branch\\\n",
    "git branch -d <name>\tDeletes the branch\\\n",
    "git branch -D <name>\tForcibly deletes the branch\\\n",
    "git checkout <branch>\tSwitches to a branch.\\\n",
    "git checkout -b <branch>\tCreates a new branch and switches to it.\\\n",
    "git merge <branch>\tMerge joins branches together.\\\n",
    "git merge --abort\tIf there are merge conflicts (meaning files are incompatible), --abort can be used to abort the merge action.\\\n",
    "git log --graph --oneline\tThis shows a summarized view of the commit history for a repo."
   ]
  },
  {
   "cell_type": "code",
   "execution_count": null,
   "metadata": {},
   "outputs": [],
   "source": []
  },
  {
   "cell_type": "markdown",
   "metadata": {},
   "source": [
    "# Basic Interaction with GitHub Cheat-Sheet"
   ]
  },
  {
   "cell_type": "code",
   "execution_count": null,
   "metadata": {},
   "outputs": [],
   "source": [
    "git clone URL\tGit clone is used to clone a remote repository into a local workspace\n",
    "git push\tGit push is used to push commits from your local repo to a remote repo\n",
    "git pull\tGit pull is used to fetch the newest updates from a remote repository"
   ]
  },
  {
   "cell_type": "code",
   "execution_count": null,
   "metadata": {},
   "outputs": [],
   "source": [
    "git remote  \tLists remote repos\n",
    "git remote -v \tList remote repos verbosely\n",
    "git remote show <name>\tDescribes a single remote repo\n",
    "git remote update\tFetches the most up-to-date objects\n",
    "git fetch\tDownloads specific objects\n",
    "git branch -r\tLists remote branches; can be combined with other branch arguments to manage remote branches"
   ]
  },
  {
   "cell_type": "code",
   "execution_count": null,
   "metadata": {},
   "outputs": [],
   "source": []
  },
  {
   "cell_type": "code",
   "execution_count": null,
   "metadata": {},
   "outputs": [],
   "source": []
  }
 ],
 "metadata": {
  "kernelspec": {
   "display_name": "Python 3",
   "language": "python",
   "name": "python3"
  },
  "language_info": {
   "codemirror_mode": {
    "name": "ipython",
    "version": 3
   },
   "file_extension": ".py",
   "mimetype": "text/x-python",
   "name": "python",
   "nbconvert_exporter": "python",
   "pygments_lexer": "ipython3",
   "version": "3.6.10"
  }
 },
 "nbformat": 4,
 "nbformat_minor": 4
}
