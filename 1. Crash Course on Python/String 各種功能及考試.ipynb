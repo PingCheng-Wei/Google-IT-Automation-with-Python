{
 "cells": [
  {
   "cell_type": "markdown",
   "metadata": {},
   "source": [
    "The is_palindrome function checks if a string is a palindrome. A palindrome is a string that can be equally read from left to right or right to left, omitting blank spaces, and ignoring capitalization. Examples of palindromes are words like kayak and radar, and phrases like \"Never Odd or Even\". Fill in the blanks in this function to return True if the passed string is a palindrome, False if not."
   ]
  },
  {
   "cell_type": "code",
   "execution_count": 10,
   "metadata": {},
   "outputs": [
    {
     "name": "stdout",
     "output_type": "stream",
     "text": [
      "neveroddoreven\n",
      "neveroddoreven\n",
      "True\n",
      "abc\n",
      "cba\n",
      "False\n",
      "kayak\n",
      "kayak\n",
      "True\n"
     ]
    }
   ],
   "source": [
    "def is_palindrome(input_string):\n",
    "    # We'll create two strings, to compare them\n",
    "    new_string = \"\"\n",
    "    reverse_string = \"\"\n",
    "    # Traverse through each letter of the input string\n",
    "    for letter in input_string.lower():\n",
    "        # Add any non-blank letters to the \n",
    "        # end of one string, and to the front\n",
    "        # of the other string. \n",
    "        if letter != \" \":\n",
    "            new_string = new_string + letter #!!!!!!!!!!!!!!!!!!!!!!!!\n",
    "            reverse_string = letter + reverse_string #!!!!!!!!!!!!!!!!!!!!!!!!!!!\n",
    "    print(new_string)\n",
    "    print(reverse_string)\n",
    "    # Compare the strings\n",
    "    if new_string == reverse_string:\n",
    "        return True\n",
    "    return False\n",
    "\n",
    "print(is_palindrome(\"Never Odd or Even\")) # Should be True\n",
    "print(is_palindrome(\"abc\")) # Should be False\n",
    "print(is_palindrome(\"kayak\")) # Should be True"
   ]
  },
  {
   "cell_type": "code",
   "execution_count": 3,
   "metadata": {},
   "outputs": [
    {
     "name": "stdout",
     "output_type": "stream",
     "text": [
      "True\n",
      "False\n",
      "True\n"
     ]
    }
   ],
   "source": [
    "## easier way to do\n",
    "def is_palindrome(input_string):\n",
    "\t# We'll create two strings, to compare them\n",
    "\tnew_string = \"\".join(input_string.lower().split()) # !!!!!!!!!!!!!!!!!!!!!!!!!\n",
    "\treverse_string = \"\".join(input_string.lower().split())[::-1] # !!!!!!!!!!!!!!!!!!!!!!\n",
    "\tif new_string == reverse_string:\n",
    "\t\treturn True\n",
    "\treturn False\n",
    "\n",
    "print(is_palindrome(\"Never Odd or Even\")) # Should be True\n",
    "print(is_palindrome(\"abc\")) # Should be False\n",
    "print(is_palindrome(\"kayak\")) # Should be True"
   ]
  },
  {
   "cell_type": "code",
   "execution_count": null,
   "metadata": {},
   "outputs": [],
   "source": []
  },
  {
   "cell_type": "markdown",
   "metadata": {},
   "source": [
    "The replace_ending function replaces the old string in a sentence with the new string, but only if the sentence ends with the old string. If there is more than one occurrence of the old string in the sentence, only the one at the end is replaced, not all of them. For example, replace_ending(\"abcabc\", \"abc\", \"xyz\") should return abcxyz, not xyzxyz or xyzabc. The string comparison is case-sensitive, so replace_ending(\"abcabc\", \"ABC\", \"xyz\") should return abcabc (no changes made)."
   ]
  },
  {
   "cell_type": "code",
   "execution_count": 11,
   "metadata": {},
   "outputs": [
    {
     "name": "stdout",
     "output_type": "stream",
     "text": [
      "It's raining cats and dogs\n",
      "She sells seashells by the seashore\n",
      "The weather is nice in May\n",
      "The weather is nice in April\n"
     ]
    }
   ],
   "source": [
    "def replace_ending(sentence, old, new):\n",
    "\t# Check if the old string is at the end of the sentence \n",
    "\tif sentence.endswith(old):\n",
    "\t\t# Using i as the slicing index, combine the part\n",
    "\t\t# of the sentence up to the matched string at the \n",
    "\t\t# end with the new string\n",
    "\t\ti = len(sentence) - len(old)\n",
    "\t\tnew_sentence = sentence[:i] + new + sentence[i+len(old):]\n",
    "\t\treturn new_sentence\n",
    "\n",
    "\t# Return the original sentence if there is no match \n",
    "\treturn sentence\n",
    "\t\n",
    "print(replace_ending(\"It's raining cats and cats\", \"cats\", \"dogs\")) \n",
    "# Should display \"It's raining cats and dogs\"\n",
    "print(replace_ending(\"She sells seashells by the seashore\", \"seashells\", \"donuts\")) \n",
    "# Should display \"She sells seashells by the seashore\"\n",
    "print(replace_ending(\"The weather is nice in May\", \"may\", \"april\")) \n",
    "# Should display \"The weather is nice in May\"\n",
    "print(replace_ending(\"The weather is nice in May\", \"May\", \"April\")) \n",
    "# Should display \"The weather is nice in April\"\n"
   ]
  },
  {
   "cell_type": "code",
   "execution_count": null,
   "metadata": {},
   "outputs": [],
   "source": []
  },
  {
   "cell_type": "code",
   "execution_count": null,
   "metadata": {},
   "outputs": [],
   "source": []
  },
  {
   "cell_type": "code",
   "execution_count": null,
   "metadata": {},
   "outputs": [],
   "source": []
  },
  {
   "cell_type": "code",
   "execution_count": null,
   "metadata": {},
   "outputs": [],
   "source": []
  }
 ],
 "metadata": {
  "kernelspec": {
   "display_name": "Python 3",
   "language": "python",
   "name": "python3"
  },
  "language_info": {
   "codemirror_mode": {
    "name": "ipython",
    "version": 3
   },
   "file_extension": ".py",
   "mimetype": "text/x-python",
   "name": "python",
   "nbconvert_exporter": "python",
   "pygments_lexer": "ipython3",
   "version": "3.6.10"
  }
 },
 "nbformat": 4,
 "nbformat_minor": 4
}
