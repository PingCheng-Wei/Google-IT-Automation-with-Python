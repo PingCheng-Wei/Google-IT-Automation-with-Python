{
 "cells": [
  {
   "cell_type": "markdown",
   "metadata": {},
   "source": [
    "# basic structur of Object-oriented Programming"
   ]
  },
  {
   "cell_type": "code",
   "execution_count": 12,
   "metadata": {},
   "outputs": [
    {
     "name": "stdout",
     "output_type": "stream",
     "text": [
      "0\n",
      "21\n"
     ]
    }
   ],
   "source": [
    "# change human years into dog years\n",
    "class Dog:\n",
    "    years = 0\n",
    "    def dog_years(self):\n",
    "        return self.years*7\n",
    "    \n",
    "fido=Dog()\n",
    "print(fido.years)\n",
    "fido.years=3\n",
    "print(fido.dog_years())"
   ]
  },
  {
   "cell_type": "markdown",
   "metadata": {},
   "source": [
    "# Constructors and special method"
   ]
  },
  {
   "cell_type": "code",
   "execution_count": 2,
   "metadata": {},
   "outputs": [
    {
     "name": "stdout",
     "output_type": "stream",
     "text": [
      "hi, my name is Dennis\n"
     ]
    }
   ],
   "source": [
    "# basic example\n",
    "class Person:\n",
    "    def __init__(self, name):\n",
    "        self.name = name\n",
    "    def greeting(self):\n",
    "        # Should return \"hi, my name is \" followed by the name of the Person.\n",
    "        return \"hi, my name is {}\".format(self.name)  ## self.name important !!!!!!\n",
    "\n",
    "# Create a new instance with a name of your choice\n",
    "some_person = Person(\"Dennis\")  \n",
    "# Call the greeting method\n",
    "print(some_person.greeting())"
   ]
  },
  {
   "cell_type": "markdown",
   "metadata": {},
   "source": []
  },
  {
   "cell_type": "code",
   "execution_count": 13,
   "metadata": {},
   "outputs": [
    {
     "name": "stdout",
     "output_type": "stream",
     "text": [
      "red\n",
      "<__main__.Apple object at 0x0000018B625E12B0>\n"
     ]
    }
   ],
   "source": [
    "# show out the address where the variable be store in our pc\n",
    "\n",
    "class Apple:\n",
    "    def __init__(self, color, flavor):\n",
    "        self.color = color\n",
    "        self.flavor = flavor\n",
    "\n",
    "# one kind of Apple\n",
    "janagold = Apple(\"red\", \"sweet\")\n",
    "print(janagold.color)\n",
    "print(janagold)\n",
    "# here it show out the address of this variable "
   ]
  },
  {
   "cell_type": "code",
   "execution_count": 11,
   "metadata": {},
   "outputs": [
    {
     "name": "stdout",
     "output_type": "stream",
     "text": [
      "This apple is red and its flavor is sweet \n"
     ]
    }
   ],
   "source": [
    "# in order not to see the Address but some info that we can understand\n",
    "# use __str__(self) function\n",
    "class Apple:\n",
    "    def __init__(self, color, flavor):\n",
    "        self.color = color\n",
    "        self.flavor = flavor\n",
    "    def __str__(self):\n",
    "        return \"This apple is {} and its flavor is {} \".format(self.color, self.flavor)\n",
    "        \n",
    "\n",
    "# one kind of Apple\n",
    "janagold = Apple(\"red\", \"sweet\")\n",
    "print(janagold)\n",
    "# it shows out what you typed in __str__"
   ]
  },
  {
   "cell_type": "code",
   "execution_count": 15,
   "metadata": {},
   "outputs": [
    {
     "name": "stdout",
     "output_type": "stream",
     "text": [
      "Help on class Piglet in module __main__:\n",
      "\n",
      "class Piglet(builtins.object)\n",
      " |  Methods defined here:\n",
      " |  \n",
      " |  pig_years(self)\n",
      " |  \n",
      " |  speak(self)\n",
      " |  \n",
      " |  ----------------------------------------------------------------------\n",
      " |  Data descriptors defined here:\n",
      " |  \n",
      " |  __dict__\n",
      " |      dictionary for instance variables (if defined)\n",
      " |  \n",
      " |  __weakref__\n",
      " |      list of weak references to the object (if defined)\n",
      " |  \n",
      " |  ----------------------------------------------------------------------\n",
      " |  Data and other attributes defined here:\n",
      " |  \n",
      " |  name = ''\n",
      " |  \n",
      " |  year = 0\n",
      "\n"
     ]
    }
   ],
   "source": [
    "# without docstings\n",
    "class Piglet:\n",
    "    #\"\"\"Represents a Piglet that can say their name.\"\"\"\n",
    "    year = 0\n",
    "    name = \"\"\n",
    "    def speak(self):\n",
    "        #\"\"\"Outputs a message including the name of piglet\"\"\"\n",
    "        print(\"Oink! I am {}. Oink!\".format(self.name))\n",
    "    def pig_years(self):\n",
    "        #\"\"\"Convert the current age into equivalant pig years.\"\"\"\n",
    "        return self.year*18\n",
    "    \n",
    "help(Piglet)"
   ]
  },
  {
   "cell_type": "markdown",
   "metadata": {},
   "source": [
    "Documenting the functions, classes and methods \\\n",
    "with docstring: \"\"\" \"\"\" \\\n",
    "註記更多補充內容 讓help 顯示出來"
   ]
  },
  {
   "cell_type": "code",
   "execution_count": 14,
   "metadata": {},
   "outputs": [
    {
     "name": "stdout",
     "output_type": "stream",
     "text": [
      "Help on class Piglet in module __main__:\n",
      "\n",
      "class Piglet(builtins.object)\n",
      " |  Represents a Piglet that can say their name.\n",
      " |  \n",
      " |  Methods defined here:\n",
      " |  \n",
      " |  pig_years(self)\n",
      " |      Convert the current age into equivalant pig years.\n",
      " |  \n",
      " |  speak(self)\n",
      " |      Outputs a message including the name of piglet\n",
      " |  \n",
      " |  ----------------------------------------------------------------------\n",
      " |  Data descriptors defined here:\n",
      " |  \n",
      " |  __dict__\n",
      " |      dictionary for instance variables (if defined)\n",
      " |  \n",
      " |  __weakref__\n",
      " |      list of weak references to the object (if defined)\n",
      " |  \n",
      " |  ----------------------------------------------------------------------\n",
      " |  Data and other attributes defined here:\n",
      " |  \n",
      " |  name = ''\n",
      " |  \n",
      " |  year = 0\n",
      "\n"
     ]
    }
   ],
   "source": [
    "class Piglet:\n",
    "    \"\"\"Represents a Piglet that can say their name.\"\"\"\n",
    "    year = 0\n",
    "    name = \"\"\n",
    "    def speak(self):\n",
    "        \"\"\"Outputs a message including the name of piglet\"\"\"\n",
    "        print(\"Oink! I am {}. Oink!\".format(self.name))\n",
    "    def pig_years(self):\n",
    "        \"\"\"Convert the current age into equivalant pig years.\"\"\"\n",
    "        return self.year*18\n",
    "    \n",
    "help(Piglet)"
   ]
  },
  {
   "cell_type": "code",
   "execution_count": null,
   "metadata": {},
   "outputs": [],
   "source": []
  },
  {
   "cell_type": "code",
   "execution_count": null,
   "metadata": {},
   "outputs": [],
   "source": []
  }
 ],
 "metadata": {
  "kernelspec": {
   "display_name": "Python 3",
   "language": "python",
   "name": "python3"
  },
  "language_info": {
   "codemirror_mode": {
    "name": "ipython",
    "version": 3
   },
   "file_extension": ".py",
   "mimetype": "text/x-python",
   "name": "python",
   "nbconvert_exporter": "python",
   "pygments_lexer": "ipython3",
   "version": "3.6.10"
  }
 },
 "nbformat": 4,
 "nbformat_minor": 4
}
